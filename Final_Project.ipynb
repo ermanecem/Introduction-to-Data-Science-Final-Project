{
 "cells": [
  {
   "cell_type": "markdown",
   "metadata": {},
   "source": [
    "# Final Project (MAT381E-Fall-2022) (REUPLOAD)\n",
    "\n",
    "**Subject**: Sentiment & Data Analysis of Book Reviews\n",
    "\n",
    "**Student**: Ecemnur Erman - 090180317 - erman18@itu.edu.tr\n",
    "\n",
    "NOTE: I forgot to put \", at the end of my explanation on the previous file and it said it's no longer a .json file. That's why I'm reuploading the file. But now with the .csv files and the samples from the dataset.\n"
   ]
  },
  {
   "cell_type": "markdown",
   "metadata": {},
   "source": [
    "## Dataset\n",
    "\n",
    "* I am going to use a dataset from Kaggle which contains 3 million Goodreads user reviews for 212404 unique books ([Kaggle Dataset](https://www.kaggle.com/datasets/mohamedbakhet/amazon-books-reviews))"
   ]
  },
  {
   "cell_type": "markdown",
   "metadata": {},
   "source": [
    "## Goal\n",
    "\n",
    " * The rating that a person gives to a book is sentimentally correlated to what they think of the book--hence their review. Ratings are just numbers (on a scale from a numeric to a numeric, to give the book a 'value' so that it could be compared to either another book or how it's perceieved to others averagely) and reviews are just a bunch of words. Or are they? That's what I aspire to find out.\"\n",
    " * People tend to base their ratings on how they feel about the book, whether they liked it or not, or whether they would recommend it to an another person or not. So in order to measure the accuracy of 'average rating', we should be able to utilize those 'bunch of words' and make sense of them--but mathematically.\n",
    " * Like I just explained, reviews and ratings are correlated. So in a world, where we could 'compare' them per se, their same-scaled values should be approximately the same. My project aims to prove this hypothesis.\n",
    " * Sentiment Analysis and Natural Language Processing (NLP) are going to be the machine learning methods I will be using. There are libraries in Python which I can utilize (nltk & nltk.sentiment).\n",
    " * These libraries contain a lot of words in different languages. Based on the emotion theory in psychology, three types of values are assigned to these words: Positive, Neutral, Negative.\n",
    " * My dataset's language is English, so I will use 'English'.\n",
    " * My process starts with constructing a list of all the books that were reviewed in this dataset, sort them out based on the average rating they got and show the TOP 100 Books visually (since the dataset is very large and showing all of them visually would be time consuming).\n",
    " * And then, I am going to analyze the texts of TOP 100 Books reviews to find out whether they are positive, negative or neutral, by assigning them positive/neutral/negative scores and calculate the average positivity score of each book.\n",
    " * After visualizing TOP 100 Books and their positivity scores, I am going to compare the two results to see if the average ratings and the sentimentality of the reviews match.\n",
    " * It is presumable that my hypothesis could backfire because of the lack of of the data (NaN values in Book Rating Column etc.), the question that whether the emotion theory really resonates with the assignment of the values to the words or the under-development of NLP techniques in terms of assigning certain values to words.\n",
    " * However, NLP & Sentiment Analysis are widely used methods to predict how the text 'sounds' in terms of emotions so I believe that I will get an approximately close result to the actual. \n"
   ]
  },
  {
   "cell_type": "code",
   "execution_count": 3,
   "metadata": {},
   "outputs": [
    {
     "name": "stdout",
     "output_type": "stream",
     "text": [
      "Requirement already satisfied: nltk in /Users/ecemnur.erman/opt/anaconda3/lib/python3.9/site-packages (3.7)\n",
      "Requirement already satisfied: regex>=2021.8.3 in /Users/ecemnur.erman/opt/anaconda3/lib/python3.9/site-packages (from nltk) (2022.7.9)\n",
      "Requirement already satisfied: tqdm in /Users/ecemnur.erman/opt/anaconda3/lib/python3.9/site-packages (from nltk) (4.64.1)\n",
      "Requirement already satisfied: click in /Users/ecemnur.erman/opt/anaconda3/lib/python3.9/site-packages (from nltk) (8.0.4)\n",
      "Requirement already satisfied: joblib in /Users/ecemnur.erman/opt/anaconda3/lib/python3.9/site-packages (from nltk) (1.1.0)\n",
      "Requirement already satisfied: opendatasets in /Users/ecemnur.erman/opt/anaconda3/lib/python3.9/site-packages (0.1.22)\n",
      "Requirement already satisfied: kaggle in /Users/ecemnur.erman/opt/anaconda3/lib/python3.9/site-packages (from opendatasets) (1.5.12)\n",
      "Requirement already satisfied: tqdm in /Users/ecemnur.erman/opt/anaconda3/lib/python3.9/site-packages (from opendatasets) (4.64.1)\n",
      "Requirement already satisfied: click in /Users/ecemnur.erman/opt/anaconda3/lib/python3.9/site-packages (from opendatasets) (8.0.4)\n",
      "Requirement already satisfied: six>=1.10 in /Users/ecemnur.erman/opt/anaconda3/lib/python3.9/site-packages (from kaggle->opendatasets) (1.16.0)\n",
      "Requirement already satisfied: python-slugify in /Users/ecemnur.erman/opt/anaconda3/lib/python3.9/site-packages (from kaggle->opendatasets) (5.0.2)\n",
      "Requirement already satisfied: urllib3 in /Users/ecemnur.erman/opt/anaconda3/lib/python3.9/site-packages (from kaggle->opendatasets) (1.26.11)\n",
      "Requirement already satisfied: certifi in /Users/ecemnur.erman/opt/anaconda3/lib/python3.9/site-packages (from kaggle->opendatasets) (2022.9.24)\n",
      "Requirement already satisfied: python-dateutil in /Users/ecemnur.erman/opt/anaconda3/lib/python3.9/site-packages (from kaggle->opendatasets) (2.8.2)\n",
      "Requirement already satisfied: requests in /Users/ecemnur.erman/opt/anaconda3/lib/python3.9/site-packages (from kaggle->opendatasets) (2.28.1)\n",
      "Requirement already satisfied: text-unidecode>=1.3 in /Users/ecemnur.erman/opt/anaconda3/lib/python3.9/site-packages (from python-slugify->kaggle->opendatasets) (1.3)\n",
      "Requirement already satisfied: idna<4,>=2.5 in /Users/ecemnur.erman/opt/anaconda3/lib/python3.9/site-packages (from requests->kaggle->opendatasets) (3.3)\n",
      "Requirement already satisfied: charset-normalizer<3,>=2 in /Users/ecemnur.erman/opt/anaconda3/lib/python3.9/site-packages (from requests->kaggle->opendatasets) (2.0.4)\n"
     ]
    }
   ],
   "source": [
    "import pandas as pd\n",
    "import numpy as np\n",
    "!pip install nltk\n",
    "!pip install opendatasets"
   ]
  },
  {
   "cell_type": "code",
   "execution_count": 4,
   "metadata": {},
   "outputs": [],
   "source": [
    "import opendatasets as od;"
   ]
  },
  {
   "cell_type": "code",
   "execution_count": 6,
   "metadata": {},
   "outputs": [
    {
     "name": "stdout",
     "output_type": "stream",
     "text": [
      "Please provide your Kaggle credentials to download this dataset. Learn more: http://bit.ly/kaggle-creds\n",
      "Your Kaggle username: ecemerman\n",
      "Your Kaggle Key: ········\n",
      "Downloading amazon-books-reviews.zip to ./amazon-books-reviews\n"
     ]
    },
    {
     "name": "stderr",
     "output_type": "stream",
     "text": [
      "100%|██████████████████████████████████████| 1.06G/1.06G [07:00<00:00, 2.71MB/s]\n"
     ]
    },
    {
     "name": "stdout",
     "output_type": "stream",
     "text": [
      "\n"
     ]
    }
   ],
   "source": [
    "od.download(\"https://www.kaggle.com/datasets/mohamedbakhet/amazon-books-reviews\")"
   ]
  },
  {
   "cell_type": "code",
   "execution_count": 14,
   "metadata": {},
   "outputs": [
    {
     "data": {
      "text/html": [
       "<div>\n",
       "<style scoped>\n",
       "    .dataframe tbody tr th:only-of-type {\n",
       "        vertical-align: middle;\n",
       "    }\n",
       "\n",
       "    .dataframe tbody tr th {\n",
       "        vertical-align: top;\n",
       "    }\n",
       "\n",
       "    .dataframe thead th {\n",
       "        text-align: right;\n",
       "    }\n",
       "</style>\n",
       "<table border=\"1\" class=\"dataframe\">\n",
       "  <thead>\n",
       "    <tr style=\"text-align: right;\">\n",
       "      <th></th>\n",
       "      <th>Title</th>\n",
       "      <th>description</th>\n",
       "      <th>authors</th>\n",
       "      <th>image</th>\n",
       "      <th>previewLink</th>\n",
       "      <th>publisher</th>\n",
       "      <th>publishedDate</th>\n",
       "      <th>infoLink</th>\n",
       "      <th>categories</th>\n",
       "      <th>ratingsCount</th>\n",
       "    </tr>\n",
       "  </thead>\n",
       "  <tbody>\n",
       "    <tr>\n",
       "      <th>0</th>\n",
       "      <td>Its Only Art If Its Well Hung!</td>\n",
       "      <td>NaN</td>\n",
       "      <td>['Julie Strain']</td>\n",
       "      <td>http://books.google.com/books/content?id=DykPA...</td>\n",
       "      <td>http://books.google.nl/books?id=DykPAAAACAAJ&amp;d...</td>\n",
       "      <td>NaN</td>\n",
       "      <td>1996</td>\n",
       "      <td>http://books.google.nl/books?id=DykPAAAACAAJ&amp;d...</td>\n",
       "      <td>['Comics &amp; Graphic Novels']</td>\n",
       "      <td>NaN</td>\n",
       "    </tr>\n",
       "  </tbody>\n",
       "</table>\n",
       "</div>"
      ],
      "text/plain": [
       "                            Title description           authors  \\\n",
       "0  Its Only Art If Its Well Hung!         NaN  ['Julie Strain']   \n",
       "\n",
       "                                               image  \\\n",
       "0  http://books.google.com/books/content?id=DykPA...   \n",
       "\n",
       "                                         previewLink publisher publishedDate  \\\n",
       "0  http://books.google.nl/books?id=DykPAAAACAAJ&d...       NaN          1996   \n",
       "\n",
       "                                            infoLink  \\\n",
       "0  http://books.google.nl/books?id=DykPAAAACAAJ&d...   \n",
       "\n",
       "                    categories  ratingsCount  \n",
       "0  ['Comics & Graphic Novels']           NaN  "
      ]
     },
     "execution_count": 14,
     "metadata": {},
     "output_type": "execute_result"
    }
   ],
   "source": [
    "import os\n",
    "directory1 = os.path.join('/Users', 'ecemnur.erman', 'Desktop', 'books_data.csv')\n",
    "books_data = pd.read_csv(directory1, on_bad_lines='skip')\n",
    "books_data.head(0)"
   ]
  },
  {
   "cell_type": "code",
   "execution_count": 16,
   "metadata": {},
   "outputs": [
    {
     "data": {
      "text/html": [
       "<div>\n",
       "<style scoped>\n",
       "    .dataframe tbody tr th:only-of-type {\n",
       "        vertical-align: middle;\n",
       "    }\n",
       "\n",
       "    .dataframe tbody tr th {\n",
       "        vertical-align: top;\n",
       "    }\n",
       "\n",
       "    .dataframe thead th {\n",
       "        text-align: right;\n",
       "    }\n",
       "</style>\n",
       "<table border=\"1\" class=\"dataframe\">\n",
       "  <thead>\n",
       "    <tr style=\"text-align: right;\">\n",
       "      <th></th>\n",
       "      <th>Id</th>\n",
       "      <th>Title</th>\n",
       "      <th>Price</th>\n",
       "      <th>User_id</th>\n",
       "      <th>profileName</th>\n",
       "      <th>review/helpfulness</th>\n",
       "      <th>review/score</th>\n",
       "      <th>review/time</th>\n",
       "      <th>review/summary</th>\n",
       "      <th>review/text</th>\n",
       "    </tr>\n",
       "  </thead>\n",
       "  <tbody>\n",
       "    <tr>\n",
       "      <th>0</th>\n",
       "      <td>1882931173</td>\n",
       "      <td>Its Only Art If Its Well Hung!</td>\n",
       "      <td>NaN</td>\n",
       "      <td>AVCGYZL8FQQTD</td>\n",
       "      <td>Jim of Oz \"jim-of-oz\"</td>\n",
       "      <td>7/7</td>\n",
       "      <td>4.0</td>\n",
       "      <td>940636800</td>\n",
       "      <td>Nice collection of Julie Strain images</td>\n",
       "      <td>This is only for Julie Strain fans. It's a col...</td>\n",
       "    </tr>\n",
       "  </tbody>\n",
       "</table>\n",
       "</div>"
      ],
      "text/plain": [
       "           Id                           Title  Price        User_id  \\\n",
       "0  1882931173  Its Only Art If Its Well Hung!    NaN  AVCGYZL8FQQTD   \n",
       "\n",
       "             profileName review/helpfulness  review/score  review/time  \\\n",
       "0  Jim of Oz \"jim-of-oz\"                7/7           4.0    940636800   \n",
       "\n",
       "                           review/summary  \\\n",
       "0  Nice collection of Julie Strain images   \n",
       "\n",
       "                                         review/text  \n",
       "0  This is only for Julie Strain fans. It's a col...  "
      ]
     },
     "execution_count": 16,
     "metadata": {},
     "output_type": "execute_result"
    }
   ],
   "source": [
    "directory2 = os.path.join('/Users', 'ecemnur.erman', 'Desktop', 'Books_rating.csv')\n",
    "books_ratings = pd.read_csv(directory2, on_bad_lines='skip')\n",
    "books_ratings.head(1)"
   ]
  },
  {
   "cell_type": "code",
   "execution_count": null,
   "metadata": {},
   "outputs": [],
   "source": []
  }
 ],
 "metadata": {
  "kernelspec": {
   "display_name": "Python 3 (ipykernel)",
   "language": "python",
   "name": "python3"
  },
  "language_info": {
   "codemirror_mode": {
    "name": "ipython",
    "version": 3
   },
   "file_extension": ".py",
   "mimetype": "text/x-python",
   "name": "python",
   "nbconvert_exporter": "python",
   "pygments_lexer": "ipython3",
   "version": "3.9.13"
  },
  "vscode": {
   "interpreter": {
    "hash": "31f2aee4e71d21fbe5cf8b01ff0e069b9275f58929596ceb00d14d90e3e16cd6"
   }
  }
 },
 "nbformat": 4,
 "nbformat_minor": 2
}
