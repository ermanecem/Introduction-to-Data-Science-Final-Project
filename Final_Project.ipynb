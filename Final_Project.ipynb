{
 "cells": [
  {
   "cell_type": "markdown",
   "metadata": {},
   "source": [
    "# Final Project (MAT381E-Fall-2022)\n",
    "\n",
    "**Subject**: Sentiment & Data Analysis of Book Reviews\n",
    "\n",
    "**Student**: Ecemnur Erman - 090180317 - erman18@itu.edu.tr\n"
   ]
  },
  {
   "cell_type": "markdown",
   "metadata": {},
   "source": [
    "## Dataset\n",
    "\n",
    "* I am going to use a dataset from Kaggle which contains 3 million Goodreads user reviews for 212404 unique books ([Kaggle Dataset](https://www.kaggle.com/datasets/mohamedbakhet/amazon-books-reviews))"
   ]
  },
  {
   "cell_type": "markdown",
   "metadata": {},
   "source": [
    "## Goal\n",
    "\n",
    "* My aim is, firstly, to construct a list of all the books that were reviewed in this dataset, sort them out based on the average rating they got and show the TOP 100 Books visually. \n",
    "* And then, I am going to analyze the texts of TOP 100 Books reviews to find out whether they are positive, negative or neutral, by assigning them positive/neutral/negative scores and calculate the average positivity score of each book. \n",
    "* After visualizing TOP 100 Books and their positivity scores, I am going to compare the two results to see if the average ratings and the sentimentality of the reviews match.\n"
   ]
  },
  {
   "cell_type": "markdown",
   "metadata": {},
   "source": [
    "## Atabey's Notes\n",
    "\n",
    "I like the dataset. However, your questions are rather thin. It looks like you can write the required code in less than an hour to answer these questions.\n",
    "\n",
    "Here are the things you must provide:\n",
    "\n",
    "1. Provide a sample of the data and explain the pieces.\n",
    "2. State your hypotheses (there is a correlation between the sentiment scores of the reviews and numerical scores) and the questions you are asking.\n",
    "3. Which machine learning methods, techniques and algorithms are available that would help you to answer the questions and confirm your hypothesis.\n",
    "4. How are you going to test if and how well your techniques worked? \n",
    "5. How are you going to know if your techniques confirm or contradict your hypothesis?\n"
   ]
  }
 ],
 "metadata": {
  "kernelspec": {
   "display_name": "Python 3 (ipykernel)",
   "language": "python",
   "name": "python3"
  },
  "language_info": {
   "codemirror_mode": {
    "name": "ipython",
    "version": 3
   },
   "file_extension": ".py",
   "mimetype": "text/x-python",
   "name": "python",
   "nbconvert_exporter": "python",
   "pygments_lexer": "ipython3",
   "version": "3.10.8"
  },
  "vscode": {
   "interpreter": {
    "hash": "31f2aee4e71d21fbe5cf8b01ff0e069b9275f58929596ceb00d14d90e3e16cd6"
   }
  }
 },
 "nbformat": 4,
 "nbformat_minor": 4
}
